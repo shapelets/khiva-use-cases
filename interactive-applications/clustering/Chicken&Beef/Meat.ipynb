{
 "cells": [
  {
   "cell_type": "markdown",
   "metadata": {},
   "source": [
    "# Meat classification with _kShape_\n",
    "\n",
    "<img align=\"right\" src=\"https://bit.ly/2ICpwel\" alt=\"drawing\" style=\"width:130px;\"/>\n",
    "\n",
    "Data sequence clustering algorithms groups series based on their shapes. An important feature regarding clustering algorithms is their ability to deal with subtle changes in shapes; in some cases, being able to identify small shape variations in a set is key to correctly produce the most appropriate clusters for our data.\n",
    "\n",
    "In this example, we use [Khiva's](https://khiva-python.readthedocs.io/en/latest/) implementation of [_kShape_](http://www.cs.columbia.edu/~gravano/Papers/2017/tods17.pdf) to classify different types of meat. _kShape_ outperforms other algorithms like _kMeans_, as it obtains better results due to the lack of dependence on scale and shifting. In this use-case, we run both algorithms and compare their results.\n",
    "\n",
    "We have chosen a [Meat Dataset](http://www.timeseriesclassification.com/description.php?Dataset=Meat) containing 60 samples. Each series is obtained by a spectograph and we have different kind of meat: chicken, pork or turkey. These spectrographs are used in chemometrics to classify food types, with real application in food safety and quality assurance.\n",
    "\n",
    "The objective of this use case is to use Khiva's implementation of _kShape_ and _kMeans_ to cluster the results of the spectrograph.\n",
    "<div style=\"text-align: right\"> <font size=\"1\"> Illustration by David Feiss </font></div>"
   ]
  },
  {
   "cell_type": "code",
   "execution_count": 1,
   "metadata": {},
   "outputs": [],
   "source": [
    "import khiva as kv\n",
    "import matplotlib.pyplot as plt\n",
    "import numpy as np\n",
    "import pandas as pd\n",
    "from sklearn.cluster import KMeans\n",
    "from ipywidgets import interact, IntSlider"
   ]
  },
  {
   "cell_type": "markdown",
   "metadata": {},
   "source": [
    "## Visualising the dataset\n",
    "\n",
    "Firstly, let's load the training dataset and plot all samples in a single chart."
   ]
  },
  {
   "cell_type": "code",
   "execution_count": 2,
   "metadata": {},
   "outputs": [],
   "source": [
    "data = pd.read_csv(\"Meat_TRAIN.txt\", header=None, sep=' ')\n",
    "\n",
    "data = data.values\n",
    "classes = data[:,0]\n",
    "data = np.delete(data, 0, 1)\n",
    "\n",
    "plt.plot(data.transpose())\n",
    "plt.grid(True)\n",
    "plt.title(\"The entire dataset\")\n",
    "plt.show()"
   ]
  },
  {
   "cell_type": "markdown",
   "metadata": {},
   "source": [
    "As we can see, it is hardly impossible to perform an accurate classification by visual inspection, as there are no key differences between the different kind of meat."
   ]
  },
  {
   "cell_type": "markdown",
   "metadata": {},
   "source": [
    "## Clustering with _kShape_\n",
    "\n",
    "Let's run _kShape_ algorithm first. _Khiva_ implementation will compute the centroids for each group automatically. These centroids keep the key characteristics for each group, like shift, scale and shape, thanks to a specialised data series distance metric called SBD (in reality, it is a dissimilarty distance), which takes into account the actual shape of the series."
   ]
  },
  {
   "cell_type": "code",
   "execution_count": null,
   "metadata": {
    "scrolled": false
   },
   "outputs": [
    {
     "data": {
      "application/vnd.jupyter.widget-view+json": {
       "model_id": "d931150a73784fdca785d844fc15883f",
       "version_major": 2,
       "version_minor": 0
      },
      "text/plain": [
       "interactive(children=(IntSlider(value=1, description='num_iter', max=10, min=1), Output()), _dom_classes=('wid…"
      ]
     },
     "metadata": {},
     "output_type": "display_data"
    }
   ],
   "source": [
    "k=3\n",
    "titles = [\"First cluster\", \"Second cluster\", \"Third cluster\"]\n",
    "\n",
    "cen = np.array([])\n",
    "lab = np.array([])\n",
    "\n",
    "def num_iter_variation(num_iter):\n",
    "    (centroids, labels) = kv.k_shape(kv.Array(data), k, max_iterations=num_iter)\n",
    "\n",
    "    global cen\n",
    "    global lab\n",
    "    cen = centroids.to_numpy()\n",
    "    lab = labels.to_numpy()\n",
    "\n",
    "    for i in range(k):\n",
    "        cond = lab == i\n",
    "        if np.any(cond):\n",
    "            plt.plot(data[lab == i, :].transpose())\n",
    "            plt.plot(cen[i, :], label=\"centroide\", c='k')\n",
    "            plt.title(titles[i])\n",
    "            plt.grid(True)\n",
    "            plt.show()\n",
    "interact(num_iter_variation, num_iter=IntSlider(min=1, max=10, step=1), continuous_update=False)"
   ]
  },
  {
   "cell_type": "markdown",
   "metadata": {},
   "source": [
    "Move the slider button to change the number of iterations and check how this impact on _k-shapes_ accuracy! You can also analyse the statistics corresponding to this classification with a summary of results."
   ]
  },
  {
   "cell_type": "markdown",
   "metadata": {},
   "source": [
    "## Clustering using _KMeans_\n",
    "\n",
    "Now, we are going to execute the same analysis but using _Scikit's_ _kMeans_ implementation, so we can benchmark its accuracy against _KShape_."
   ]
  },
  {
   "cell_type": "code",
   "execution_count": null,
   "metadata": {},
   "outputs": [],
   "source": [
    "km = KMeans(n_clusters=k).fit(data)\n",
    "for i in range(k):\n",
    "    cond = km.labels_ == i\n",
    "    if np.any(cond):\n",
    "        plt.plot(data[km.labels_ == i, :].transpose())\n",
    "        plt.plot(km.cluster_centers_[i, :], label=\"centroide\", c='k')\n",
    "        plt.title(titles[i])\n",
    "        plt.grid(True)\n",
    "        plt.show()"
   ]
  },
  {
   "cell_type": "markdown",
   "metadata": {},
   "source": [
    "## Visualising the clusters with _kShape_\n",
    "\n",
    "Now that we have computed the clusters using _kShape_, we can plot the set of time series belonging to the first cluster, along with the first centroid (black line). Looking at the graph, it is easy to conclude that the centroid summarises the shape of all the time series belonging to this first cluster. Besides, we show the analogue graph for the second cluster."
   ]
  },
  {
   "cell_type": "code",
   "execution_count": null,
   "metadata": {},
   "outputs": [],
   "source": [
    "def _ncc_c_3dim(x, y):\n",
    "    den = np.linalg.norm(x, axis=1)[:, None] * np.linalg.norm(y, axis=1)\n",
    "    den[den == 0] = np.Inf\n",
    "    x_len = x.shape[-1]\n",
    "    fft_size = 1 << (2*x_len-1).bit_length()\n",
    "    cc = np.fft.ifft(np.fft.fft(x, fft_size) * np.conj(np.fft.fft(y, fft_size))[:, None])\n",
    "    cc = np.concatenate((cc[:,:,-(x_len-1):], cc[:,:,:x_len]), axis=2)\n",
    "    return np.real(cc) / den.T[:, :, None]\n",
    "\n",
    "test = pd.read_csv(\"Meat_TEST.txt\", header = None, sep=' ')\n",
    "test = test.values\n",
    "\n",
    "test_classes = test[:,0]\n",
    "test = np.delete(test, 0, 1)\n",
    "\n",
    "distances = np.empty((cen.shape[0], test.shape[0]))\n",
    "\n",
    "for i in range(test.shape[0]):\n",
    "    for j in range(cen.shape[0]):\n",
    "        distances[j, i] = np.sum(np.abs(test[i,:] - cen[j, :]))\n",
    "\n",
    "idx_test = np.argmin(distances, 0)\n",
    "\n",
    "distances_NCC = (1 - _ncc_c_3dim(test, cen).max(axis=2)).T\n",
    "idx_test_ncc = distances_NCC.argmin(1)"
   ]
  },
  {
   "cell_type": "markdown",
   "metadata": {},
   "source": [
    "Considering the previous results, it becomes apparent that using a specialised algorithm for data series delivers better clustering insights, rather than those obtain using a more generalized algorithm like _kMeans_.\n",
    "\n",
    "Give a try to Khiva's _kShape_ implementation on your dataset. Share with us the results obtained and make a pull request to publish them!."
   ]
  },
  {
   "cell_type": "code",
   "execution_count": null,
   "metadata": {},
   "outputs": [],
   "source": []
  }
 ],
 "metadata": {
  "kernelspec": {
   "display_name": "Python 3",
   "language": "python",
   "name": "python3"
  },
  "language_info": {
   "codemirror_mode": {
    "name": "ipython",
    "version": 3
   },
   "file_extension": ".py",
   "mimetype": "text/x-python",
   "name": "python",
   "nbconvert_exporter": "python",
   "pygments_lexer": "ipython3",
   "version": "3.6.5"
  }
 },
 "nbformat": 4,
 "nbformat_minor": 2
}
