{
 "cells": [
  {
   "cell_type": "markdown",
   "metadata": {},
   "source": [
    "# Khiva's time series resizing\n",
    "This interactive notebook illustrates the usage of Khiva's time series resizing methods. It shows how these methods can be used to visualize time series, using less points and with a very similar graphical perception.\n",
    "\n",
    "This exercise is focused on:\n",
    "    \n",
    "1. Time series resizing.\n",
    "2. Time series visualisation using less points and with a very similar graphical perception.\n",
    "\n",
    "The algorithms used in this notebook come from Khiva's [dimensionality](http://khiva-python.readthedocs.io/en/latest/khiva.html#module-khiva.dimensionality) module. In this case, three of those algorithms are going to be used:\n",
    "\n",
    "1. [Visvalingam](http://khiva-python.readthedocs.io/en/latest/khiva.html#khiva.dimensionality.visvalingam)\n",
    "2. [PIP](http://khiva-python.readthedocs.io/en/latest/khiva.html#khiva.dimensionality.pip)\n",
    "3. [PAA](http://khiva-python.readthedocs.io/en/latest/khiva.html#khiva.dimensionality.paa)\n"
   ]
  },
  {
   "cell_type": "code",
   "execution_count": 68,
   "metadata": {},
   "outputs": [],
   "source": [
    "from khiva.dimensionality import *\n",
    "from khiva.library import *\n",
    "from khiva.array import *\n",
    "\n",
    "import pandas as pd\n",
    "\n",
    "import warnings\n",
    "\n",
    "warnings.filterwarnings(\"ignore\", category=DeprecationWarning)\n",
    "warnings.filterwarnings(\"ignore\", category=Warning)\n",
    "\n",
    "import matplotlib.pyplot as plt\n",
    "from ipywidgets import IntSlider, SelectionSlider, interact\n",
    "\n",
    "from __future__ import print_function\n",
    "import time\n",
    "\n",
    "%config IPCompleter.greedy=True\n",
    "%matplotlib inline\n",
    "plt.rcParams['figure.figsize'] = [16, 5]"
   ]
  },
  {
   "cell_type": "markdown",
   "metadata": {},
   "source": [
    "## Backend \n",
    "Prints the backend being used. The CPU, CUDA and OPENCL backends are available in Khiva.\n",
    "    \n",
    "This interactive application is being executed in **hub.mybinder** which doesn't provide a GPU and its CPU is quite limited so the resizing is going to take some time."
   ]
  },
  {
   "cell_type": "code",
   "execution_count": 69,
   "metadata": {},
   "outputs": [
    {
     "name": "stdout",
     "output_type": "stream",
     "text": [
      "KHIVABackend.KHIVA_BACKEND_CPU\n"
     ]
    }
   ],
   "source": [
    "print(get_backend())"
   ]
  },
  {
   "cell_type": "markdown",
   "metadata": {},
   "source": [
    "## Data load\n",
    "A file containing information related with electrical consumptions is going to be loaded. The **value** column corresponds to electrical consumption of the given site. For this notebook, we are going to use just 3000 points given the limited CPU capabilities of **hub.mybinder**."
   ]
  },
  {
   "cell_type": "code",
   "execution_count": 70,
   "metadata": {},
   "outputs": [
    {
     "data": {
      "text/html": [
       "<div>\n",
       "<style scoped>\n",
       "    .dataframe tbody tr th:only-of-type {\n",
       "        vertical-align: middle;\n",
       "    }\n",
       "\n",
       "    .dataframe tbody tr th {\n",
       "        vertical-align: top;\n",
       "    }\n",
       "\n",
       "    .dataframe thead th {\n",
       "        text-align: right;\n",
       "    }\n",
       "</style>\n",
       "<table border=\"1\" class=\"dataframe\">\n",
       "  <thead>\n",
       "    <tr style=\"text-align: right;\">\n",
       "      <th></th>\n",
       "      <th>timestamp</th>\n",
       "      <th>dttm_utc</th>\n",
       "      <th>value</th>\n",
       "      <th>estimated</th>\n",
       "      <th>anomaly</th>\n",
       "    </tr>\n",
       "  </thead>\n",
       "  <tbody>\n",
       "    <tr>\n",
       "      <th>0</th>\n",
       "      <td>1325376600</td>\n",
       "      <td>2012-01-01 00:10:00</td>\n",
       "      <td>52.1147</td>\n",
       "      <td>0</td>\n",
       "      <td>NaN</td>\n",
       "    </tr>\n",
       "    <tr>\n",
       "      <th>1</th>\n",
       "      <td>1325376900</td>\n",
       "      <td>2012-01-01 00:15:00</td>\n",
       "      <td>50.9517</td>\n",
       "      <td>0</td>\n",
       "      <td>NaN</td>\n",
       "    </tr>\n",
       "    <tr>\n",
       "      <th>2</th>\n",
       "      <td>1325377200</td>\n",
       "      <td>2012-01-01 00:20:00</td>\n",
       "      <td>49.8164</td>\n",
       "      <td>0</td>\n",
       "      <td>NaN</td>\n",
       "    </tr>\n",
       "    <tr>\n",
       "      <th>3</th>\n",
       "      <td>1325377500</td>\n",
       "      <td>2012-01-01 00:25:00</td>\n",
       "      <td>49.1795</td>\n",
       "      <td>0</td>\n",
       "      <td>NaN</td>\n",
       "    </tr>\n",
       "    <tr>\n",
       "      <th>4</th>\n",
       "      <td>1325377800</td>\n",
       "      <td>2012-01-01 00:30:00</td>\n",
       "      <td>47.6288</td>\n",
       "      <td>0</td>\n",
       "      <td>NaN</td>\n",
       "    </tr>\n",
       "  </tbody>\n",
       "</table>\n",
       "</div>"
      ],
      "text/plain": [
       "    timestamp             dttm_utc    value  estimated  anomaly\n",
       "0  1325376600  2012-01-01 00:10:00  52.1147          0      NaN\n",
       "1  1325376900  2012-01-01 00:15:00  50.9517          0      NaN\n",
       "2  1325377200  2012-01-01 00:20:00  49.8164          0      NaN\n",
       "3  1325377500  2012-01-01 00:25:00  49.1795          0      NaN\n",
       "4  1325377800  2012-01-01 00:30:00  47.6288          0      NaN"
      ]
     },
     "execution_count": 70,
     "metadata": {},
     "output_type": "execute_result"
    }
   ],
   "source": [
    "df = pd.read_csv('../../energy/data/data-enerNoc/all-data/csv/6.csv')\n",
    "number_of_points = 3000\n",
    "values = df['value'].as_matrix()[0:number_of_points]\n",
    "a = Array([range(number_of_points),values.tolist()])\n",
    "df.head(5)"
   ]
  },
  {
   "cell_type": "markdown",
   "metadata": {},
   "source": [
    "## Visvalingam\n",
    "Remember to visit the algorithm [documentation](http://khiva-python.readthedocs.io/en/latest/khiva.html#khiva.dimensionality.visvalingam) in order to understand it.\n",
    "Use the slider to select the target number of points."
   ]
  },
  {
   "cell_type": "code",
   "execution_count": 71,
   "metadata": {},
   "outputs": [
    {
     "data": {
      "text/plain": [
       "interactive(children=(IntSlider(value=3000, continuous_update=False, description='points', max=3000, min=100),…"
      ]
     },
     "metadata": {},
     "output_type": "display_data"
    }
   ],
   "source": [
    "def use_visvalingam(points):\n",
    "    global a\n",
    "    global values\n",
    "       \n",
    "    if(points == number_of_points): \n",
    "        b = a.to_numpy()\n",
    "        plt.plot(b[0], b[1])\n",
    "        plt.title(\"No resize applied.\")\n",
    "    else:\n",
    "        start = time.time()\n",
    "        b = visvalingam(a, int(points)).to_numpy()\n",
    "        print(\"Time taken: \" + str(time.time() - start) + \" seconds.\")\n",
    "        plt.plot(b[0], b[1])\n",
    "        plt.title(\"Visvalingam applied. Converting \" + str(number_of_points) + \" points to \" + str(points) + \" points.\")\n",
    "    plt.show()\n",
    "    \n",
    "   \n",
    "interact(use_visvalingam,points=IntSlider(min=100, max=number_of_points, step=1, continuous_update=False, value = number_of_points));"
   ]
  },
  {
   "cell_type": "markdown",
   "metadata": {},
   "source": [
    "## PIP\n",
    "Please, select the desired number of points using the slider. Please, visit the algorithm [documentation](http://khiva-python.readthedocs.io/en/latest/khiva.html#khiva.dimensionality.pip) to understand how to use it correctly. \n",
    "> Note: This algorithm is slower than Visvalingam, but this one conserves better the peaks of the time series under study. As you increment the number of target points, the algorithm gets slower."
   ]
  },
  {
   "cell_type": "code",
   "execution_count": 72,
   "metadata": {},
   "outputs": [
    {
     "data": {
      "text/plain": [
       "interactive(children=(IntSlider(value=100, continuous_update=False, description='pips', max=3000, min=100), Ou…"
      ]
     },
     "metadata": {},
     "output_type": "display_data"
    }
   ],
   "source": [
    "def use_pip(pips):\n",
    "    global a\n",
    "    global values\n",
    "       \n",
    "    if(pips == number_of_points):\n",
    "        plt.plot(range(number_of_points), values)\n",
    "        plt.title(\"No resize applied.\")\n",
    "    else:\n",
    "        start = time.time()\n",
    "        b = pip(a, int(pips)).to_numpy()\n",
    "        print(\"Time taken: \" + str(time.time() - start) + \" seconds.\")\n",
    "        plt.plot(b[0], b[1])\n",
    "        plt.title(\"Pip applied. Converting \" + str(number_of_points) + \" points to \" + str(pips) + \" points.\")\n",
    "    plt.show()\n",
    "    \n",
    "   \n",
    "interact(use_pip,pips=IntSlider(min=100, max=number_of_points, step=1, continuous_update=False, value = 100));"
   ]
  },
  {
   "cell_type": "markdown",
   "metadata": {},
   "source": [
    "## PAA\n",
    "The PAA algorithm only works reducing the time series to a number of points equal to a factor of the original time series length. Because of this, the slider contains only the factors of the time series length to execute this algorithm.\n",
    "\n",
    "For more information about this algorithm, please, visit its [documentation](http://khiva-python.readthedocs.io/en/latest/khiva.html#khiva.dimensionality.paa)."
   ]
  },
  {
   "cell_type": "code",
   "execution_count": null,
   "metadata": {},
   "outputs": [
    {
     "data": {
      "text/plain": [
       "interactive(children=(SelectionSlider(continuous_update=False, description='bins', index=31, options=(1, 2, 3,…"
      ]
     },
     "metadata": {},
     "output_type": "display_data"
    }
   ],
   "source": [
    "\n",
    "def get_factors(x):\n",
    "    factors = []\n",
    "    for i in range(1, x + 1):\n",
    "        if x % i == 0:\n",
    "            factors.append(i)\n",
    "    return factors\n",
    "\n",
    "divisors = get_factors(number_of_points)\n",
    "\n",
    "def use_paa(bins):\n",
    "    global a\n",
    "    global values\n",
    "    \n",
    "    if(bins == number_of_points): \n",
    "        plt.plot(range(number_of_points), values)\n",
    "        plt.title(\"No resize applied.\")\n",
    "    else:\n",
    "        start = time.time()\n",
    "        b = paa(a, int(bins)).to_numpy()\n",
    "        print(\"Time taken: \" + str(time.time() - start) + \" seconds.\")\n",
    "        plt.plot(b[0], b[1])\n",
    "        plt.title(\"PAA applied. Converting \" + str(number_of_points) + \" points to \" + str(bins) + \" points.\")\n",
    "\n",
    "    plt.show()\n",
    "    \n",
    "interact(use_paa, bins=SelectionSlider(options = divisors, continuous_update=False, value = divisors[len(divisors) - 1]));"
   ]
  }
 ],
 "metadata": {
  "kernelspec": {
   "display_name": "Python 3",
   "language": "python",
   "name": "python3"
  },
  "language_info": {
   "codemirror_mode": {
    "name": "ipython",
    "version": 3
   },
   "file_extension": ".py",
   "mimetype": "text/x-python",
   "name": "python",
   "nbconvert_exporter": "python",
   "pygments_lexer": "ipython3",
   "version": "3.6.5"
  }
 },
 "nbformat": 4,
 "nbformat_minor": 1
}
